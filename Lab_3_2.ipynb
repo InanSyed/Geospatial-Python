{
  "cells": [
    {
      "cell_type": "markdown",
      "id": "bb49ee47-a7fb-4190-ba46-cd1ba8cd60ec",
      "metadata": {
        "id": "bb49ee47-a7fb-4190-ba46-cd1ba8cd60ec"
      },
      "source": [
        "## Assignment 2: Create buffers around shopping centers\n",
        "\n"
      ]
    },
    {
      "cell_type": "markdown",
      "source": [],
      "metadata": {
        "id": "mo3bE0ovgbN8"
      },
      "id": "mo3bE0ovgbN8"
    },
    {
      "cell_type": "markdown",
      "id": "9fb4c9fe-4572-4054-b88a-9f741b86998e",
      "metadata": {
        "id": "9fb4c9fe-4572-4054-b88a-9f741b86998e"
      },
      "source": [
        "###\n",
        "\n",
        "First, load the shopping centre *point* data set you created in *assignment 1* into a `GeoDataFrame` called `shopping_centres`."
      ]
    },
    {
      "cell_type": "code",
      "execution_count": 2,
      "id": "fce32a72-14a2-4b5e-bb5a-fa2608e62330",
      "metadata": {
        "id": "fce32a72-14a2-4b5e-bb5a-fa2608e62330"
      },
      "outputs": [],
      "source": [
        "# RUN YOUR CODE HERE\n",
        "import geopandas as gpd\n",
        "\n",
        "shopping_centres = gpd.read_file(\"shopping_centres.gpkg\")\n"
      ]
    },
    {
      "cell_type": "markdown",
      "id": "43e51bb5-bcd6-4df8-af36-e5befb92317a",
      "metadata": {
        "id": "43e51bb5-bcd6-4df8-af36-e5befb92317a"
      },
      "source": [
        "Calculate a 2 km buffer around the shopping locations.\n",
        "Use the geopandas.GeoDataFrame.buffer() method, that uses shapely’s buffer() in the background."
      ]
    },
    {
      "cell_type": "code",
      "execution_count": 3,
      "id": "0bf293ef-09b9-4fe2-980d-d7e4ef5f4830",
      "metadata": {
        "id": "0bf293ef-09b9-4fe2-980d-d7e4ef5f4830"
      },
      "outputs": [],
      "source": [
        "# RUN YOUR CODE HERE\n",
        "shopping_centres[\"buffer\"] = shopping_centres.buffer(2000)"
      ]
    },
    {
      "cell_type": "markdown",
      "id": "3011433b-3d90-40d6-9d32-89066cbee667",
      "metadata": {
        "id": "3011433b-3d90-40d6-9d32-89066cbee667"
      },
      "source": [
        "Save the data frame containing the buffer geometries into a new layer `buffers` as a .gpkg or .shp. Your buffers layer should contain the information for the shopping centers as well."
      ]
    },
    {
      "cell_type": "code",
      "execution_count": 5,
      "id": "2c68b039-6209-4c3d-a76f-cc2f25e8dd13",
      "metadata": {
        "id": "2c68b039-6209-4c3d-a76f-cc2f25e8dd13"
      },
      "outputs": [],
      "source": [
        "# RUN YOUR CODE HERE\n",
        "buffers = shopping_centres.copy()\n",
        "buffers = buffers.drop(columns=\"geometry\")\n",
        "buffers.set_geometry(\"buffer\")\n",
        "buffers.to_file(\"buffers.gpkg\", driver=\"GPKG\")"
      ]
    },
    {
      "cell_type": "code",
      "execution_count": null,
      "id": "4a3d6411-1e0d-46cd-be41-671216fd62b7",
      "metadata": {
        "id": "4a3d6411-1e0d-46cd-be41-671216fd62b7"
      },
      "outputs": [],
      "source": []
    },
    {
      "cell_type": "code",
      "execution_count": null,
      "id": "d4f9edf4-c3b0-4832-b307-b01fc6831d04",
      "metadata": {
        "id": "d4f9edf4-c3b0-4832-b307-b01fc6831d04"
      },
      "outputs": [],
      "source": []
    }
  ],
  "metadata": {
    "kernelspec": {
      "display_name": "Python 3 (ipykernel)",
      "language": "python",
      "name": "python3"
    },
    "language_info": {
      "codemirror_mode": {
        "name": "ipython",
        "version": 3
      },
      "file_extension": ".py",
      "mimetype": "text/x-python",
      "name": "python",
      "nbconvert_exporter": "python",
      "pygments_lexer": "ipython3",
      "version": "3.10.14"
    },
    "colab": {
      "provenance": []
    }
  },
  "nbformat": 4,
  "nbformat_minor": 5
}