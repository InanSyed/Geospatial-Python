{
  "cells": [
    {
      "cell_type": "markdown",
      "id": "214ab925-eef7-4c1f-968f-aa2a7686dae6",
      "metadata": {
        "id": "214ab925-eef7-4c1f-968f-aa2a7686dae6"
      },
      "source": [
        "\n",
        "## Assignment 3:\n",
        " Use a *spatial join* to relate data from a population data set to the buffer layer created in *assignment 2* to find out how many people live in all population grid cells that are **within** 1 km distance from each shopping centre in Stockholm\n"
      ]
    },
    {
      "cell_type": "markdown",
      "id": "172b4330-6e93-4b5a-ad5a-12b9408ae1ba",
      "metadata": {
        "id": "172b4330-6e93-4b5a-ad5a-12b9408ae1ba"
      },
      "source": [
        "Load the population layer for Stockholm named 'pop_stockholm.shp' in a geodataframe. Don’t forget to check if the layer is on an appropriate CRS (EPSG 3006, SWEREF99 TM)"
      ]
    },
    {
      "cell_type": "code",
      "execution_count": 14,
      "id": "2bbbe93c-63dc-4119-8fff-e609e2316394",
      "metadata": {
        "id": "2bbbe93c-63dc-4119-8fff-e609e2316394",
        "outputId": "4c6e9c50-c32d-4c7c-e42d-ee8d343288c2",
        "colab": {
          "base_uri": "https://localhost:8080/"
        }
      },
      "outputs": [
        {
          "output_type": "stream",
          "name": "stdout",
          "text": [
            "EPSG:3006\n"
          ]
        }
      ],
      "source": [
        "# RUN YOUR CODE HERE\n",
        "import geopandas as gpd\n",
        "import pandas as pd\n",
        "population = gpd.read_file(\"pop_stockholm.shp\")\n",
        "print(population.crs)"
      ]
    },
    {
      "cell_type": "markdown",
      "id": "09624ac4-22d0-47a9-8510-128220eb4721",
      "metadata": {
        "id": "09624ac4-22d0-47a9-8510-128220eb4721"
      },
      "source": [
        "Load the buffers computed in *assignment 2* into a `GeoDataFrame` called `shopping_centre_buffers`. Make sure both layers are in the same CRS"
      ]
    },
    {
      "cell_type": "code",
      "execution_count": 15,
      "id": "349b2bb9-ece0-4354-9762-bdf2cf5ee659",
      "metadata": {
        "id": "349b2bb9-ece0-4354-9762-bdf2cf5ee659"
      },
      "outputs": [],
      "source": [
        "# RUN YOUR CODE HERE\n",
        "shopping_centre_buffers = gpd.read_file(\"buffers.gpkg\")\n",
        "if shopping_centre_buffers.crs.to_string() != \"EPSG:3006\":\n",
        "    shopping_centre_buffers = shopping_centre_buffers.to_crs(epsg=3006)\n"
      ]
    },
    {
      "cell_type": "markdown",
      "id": "6fa63cea-536a-4808-a215-144412d6a766",
      "metadata": {
        "id": "6fa63cea-536a-4808-a215-144412d6a766"
      },
      "source": [
        "\n",
        "Join the shopping centre’s `id` column to the population data frame, for all population grid cells that are **within** the buffer area of each shopping centre. [Use a *join-type* that retains only rows from both input data frames for which the geometric predicate is true](https://geopandas.org/en/stable/gallery/spatial_joins.html#Types-of-spatial-joins)."
      ]
    },
    {
      "cell_type": "code",
      "execution_count": 16,
      "id": "8523b41e-5595-4541-99ee-91119ba7dd8e",
      "metadata": {
        "id": "8523b41e-5595-4541-99ee-91119ba7dd8e"
      },
      "outputs": [],
      "source": [
        "# RUN YOUR CODE HERE\n",
        "joined = gpd.sjoin(population, shopping_centre_buffers[[\"id\", \"name\", \"geometry\"]], how=\"inner\", predicate=\"within\")"
      ]
    },
    {
      "cell_type": "markdown",
      "id": "dc217b1e-44c0-4244-92e6-c49602c7c5ff",
      "metadata": {
        "id": "dc217b1e-44c0-4244-92e6-c49602c7c5ff"
      },
      "source": [
        "Compute the population sum for each shopping center's buffer. Print the results (ie., 'People living in Shopping center named 'XXX' is XX')"
      ]
    },
    {
      "cell_type": "code",
      "execution_count": 17,
      "id": "eeb6d6ed-f392-43f4-bb7e-b5f32b64acc9",
      "metadata": {
        "id": "eeb6d6ed-f392-43f4-bb7e-b5f32b64acc9",
        "outputId": "121a07c2-454d-4577-c984-b7d4df5acb00",
        "colab": {
          "base_uri": "https://localhost:8080/"
        }
      },
      "outputs": [
        {
          "output_type": "stream",
          "name": "stdout",
          "text": [
            "People living in Shopping centre named 'Westfield Mall of Scandinavia' is 34980\n",
            "People living in Shopping centre named 'NK Stockholm' is 29839\n",
            "People living in Shopping centre named 'Kista Galleria' is 0\n",
            "People living in Shopping centre named 'Vällingby Centrum' is 30400\n",
            "People living in Shopping centre named 'Westfield Täby Centrum' is 22059\n",
            "People living in Shopping centre named 'MOOD Stockholm' is 65538\n",
            "People living in Shopping centre named 'Sturegallerian' is 71195\n",
            "People living in Shopping centre named 'Söderhallarna' is 69366\n",
            "People living in Shopping centre named 'Bromma Blocks' is 16963\n",
            "People living in Shopping centre named 'Sickla Köpkvarter' is 33483\n"
          ]
        }
      ],
      "source": [
        "sum = joined.groupby(\"id\")[\"POP\"].sum().reset_index()\n",
        "result = shopping_centre_buffers.merge(sum, on=\"id\", how=\"left\")\n",
        "result[\"POP\"] = result[\"POP\"].fillna(0)\n",
        "for i, row in result.iterrows():\n",
        "    print(f\"People living in Shopping centre named '{row['name']}' is {int(row['POP'])}\")"
      ]
    }
  ],
  "metadata": {
    "kernelspec": {
      "display_name": "Python 3 (ipykernel)",
      "language": "python",
      "name": "python3"
    },
    "language_info": {
      "codemirror_mode": {
        "name": "ipython",
        "version": 3
      },
      "file_extension": ".py",
      "mimetype": "text/x-python",
      "name": "python",
      "nbconvert_exporter": "python",
      "pygments_lexer": "ipython3",
      "version": "3.11.8"
    },
    "colab": {
      "provenance": []
    }
  },
  "nbformat": 4,
  "nbformat_minor": 5
}