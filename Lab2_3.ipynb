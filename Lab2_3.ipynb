{
  "cells": [
    {
      "cell_type": "markdown",
      "id": "1e6830d8-f993-444f-aec6-3725d9c9eae0",
      "metadata": {
        "id": "1e6830d8-f993-444f-aec6-3725d9c9eae0"
      },
      "source": [
        "### Assignment 3: Calculating Routes"
      ]
    },
    {
      "cell_type": "markdown",
      "id": "ba517499-b7e1-4e61-85c9-05bd92e03e55",
      "metadata": {
        "id": "ba517499-b7e1-4e61-85c9-05bd92e03e55"
      },
      "source": [
        "Continuing from the outcome of the previous assignment, we want to calculate different types of information based on the routes of users. The column trip_id denotes locations that a certain user has gone through. As such, a unique user (i.e ID=1) has gone through different locations. To do the calculations for this, we will need to use the trip_id column of the data set ***sweden_points.shp*** that we created at the last step of Assignment 2.\n",
        "\n",
        "Answer the following questions:\n",
        "\n",
        "- What was the shortest distance a user travelled between all their posts (in meters)?\n",
        "\n",
        "- What was the mean distance travelled per user (in meters)?\n",
        "\n",
        "- What was the maximum distance a user travelled (in meters)?"
      ]
    },
    {
      "cell_type": "markdown",
      "id": "91ef26cb-3c9d-4423-81be-0bb85e836b40",
      "metadata": {
        "id": "91ef26cb-3c9d-4423-81be-0bb85e836b40"
      },
      "source": [
        "1) First, import the shapefile  and transform it into a projected system (SWEREF99, EPSG:3006)"
      ]
    },
    {
      "cell_type": "code",
      "execution_count": 3,
      "id": "4032002c-1262-46f5-a14b-8c1d1aa6f536",
      "metadata": {
        "id": "4032002c-1262-46f5-a14b-8c1d1aa6f536"
      },
      "outputs": [],
      "source": [
        "# RUN YOUR OWN CODE\n",
        "import geopandas as gpd\n",
        "import pandas as pd\n",
        "from shapely.geometry import LineString\n",
        "\n",
        "sweden_points = gpd.read_file(\"data/sweden_points.shp\")\n",
        "sweden_points = sweden_points.to_crs(epsg=3006)"
      ]
    },
    {
      "cell_type": "markdown",
      "id": "a026aa35-cdc2-45ef-b26c-b1398b4e9995",
      "metadata": {
        "id": "a026aa35-cdc2-45ef-b26c-b1398b4e9995"
      },
      "source": [
        " 2) Following, group the data by user id."
      ]
    },
    {
      "cell_type": "code",
      "execution_count": 4,
      "id": "1871c7c9-583c-4d7b-95b3-2f91b828f642",
      "metadata": {
        "id": "1871c7c9-583c-4d7b-95b3-2f91b828f642"
      },
      "outputs": [],
      "source": [
        "# RUN YOUR OWN CODE\n",
        "grouped_by_trip_id = sweden_points.groupby(\"trip_id\")"
      ]
    },
    {
      "cell_type": "code",
      "execution_count": 5,
      "id": "70d287eb-62ba-40db-bf10-d418a308e098",
      "metadata": {
        "id": "70d287eb-62ba-40db-bf10-d418a308e098"
      },
      "outputs": [],
      "source": [
        "#  Check if your code works, adjust for variable names if needed\n",
        "assert len(grouped_by_trip_id.groups) == len(sweden_points[\"trip_id\"].unique()), \"Number of groups should match number of unique users!\"\n"
      ]
    },
    {
      "cell_type": "markdown",
      "id": "11ede585-081c-4541-b48c-e3d35c410622",
      "metadata": {
        "id": "11ede585-081c-4541-b48c-e3d35c410622"
      },
      "source": [
        "3) Create ***shapely.geometry.LineString*** objects for each user. There are multiple ways to solve this problem (see the hints for this exercise). You can use, for instance, a dictionary or an empty GeoDataFrame to collect data that is generated using the steps below:\n",
        "\n",
        "- Use a for-loop to iterate over the grouped object.\n",
        "- For each user’s data: create a shapely.geometry.LineString based on the user’s points.\n",
        "- Store the results in a geopandas.GeoDataFrame called ***movements***, and remember to assign a CRS."
      ]
    },
    {
      "cell_type": "code",
      "execution_count": 6,
      "id": "c5233cfa-c57c-48a5-9327-d801188d5b43",
      "metadata": {
        "id": "c5233cfa-c57c-48a5-9327-d801188d5b43"
      },
      "outputs": [],
      "source": [
        "# RUN YOUR OWN CODE\n",
        "lines = []\n",
        "trip_ids = []\n",
        "for trip_id, group in grouped_by_trip_id:\n",
        "    coords = list(group.geometry)\n",
        "    # Make a line only if there's at least 2 points\n",
        "    if len(coords) > 1:\n",
        "        line = LineString(coords)\n",
        "        lines.append(line)\n",
        "        trip_ids.append(trip_id)\n",
        "movements = gpd.GeoDataFrame({'trip_id': trip_ids, 'geometry': lines}, crs=sweden_points.crs)"
      ]
    },
    {
      "cell_type": "code",
      "execution_count": 7,
      "id": "18bf6411-40a3-40d9-a45f-65bcb0ecc813",
      "metadata": {
        "id": "18bf6411-40a3-40d9-a45f-65bcb0ecc813",
        "outputId": "14743704-b24a-4d21-e4ea-653f3bdacc1b",
        "colab": {
          "base_uri": "https://localhost:8080/"
        }
      },
      "outputs": [
        {
          "output_type": "stream",
          "name": "stdout",
          "text": [
            "   trip_id                                           geometry\n",
            "0        1  LINESTRING (845251.385 6639741.461, 787065.581...\n",
            "1        2  LINESTRING (864817.489 7485650.624, 767119.119...\n",
            "2        3  LINESTRING (452270.534 7026609.03, 652926.75 7...\n",
            "3        4  LINESTRING (918262.273 6191596.14, 853824.92 7...\n",
            "4        5  LINESTRING (406319.008 6193535.446, 669999.747...\n"
          ]
        }
      ],
      "source": [
        "# Check the result\n",
        "print(movements.head())"
      ]
    },
    {
      "cell_type": "markdown",
      "id": "8f4a9a13-4ebd-401a-bc12-20bcd0c98f2b",
      "metadata": {
        "id": "8f4a9a13-4ebd-401a-bc12-20bcd0c98f2b"
      },
      "source": [
        "4) Calculate the distance between all locations of a user.\n",
        "Compute the lengths of the lines, and store it in a new column called ***distance***.\n"
      ]
    },
    {
      "cell_type": "code",
      "execution_count": 8,
      "id": "760b29d6-eb23-435b-a2d5-bbfa6688c5c3",
      "metadata": {
        "id": "760b29d6-eb23-435b-a2d5-bbfa6688c5c3"
      },
      "outputs": [],
      "source": [
        "# RUN YOUR OWN CODE\n",
        "movements[\"distance\"] = movements.geometry.length"
      ]
    },
    {
      "cell_type": "markdown",
      "id": "b4731422-efc2-4203-8c20-62d0e05be44b",
      "metadata": {
        "id": "b4731422-efc2-4203-8c20-62d0e05be44b"
      },
      "source": [
        "\n",
        "\n",
        "5) What was the shortest distance a user travelled between all their posts (in meters)? (store the value in a variable shortest_distance)\n",
        "\n",
        "   What was the mean distance travelled per user (in meters)? (store the value in a variable mean_distance)\n",
        "\n",
        "   What was the maximum distance a user travelled (in meters)? (store the value in a variable longest_distance)"
      ]
    },
    {
      "cell_type": "code",
      "execution_count": 10,
      "id": "f6d3f800-7914-4086-a5df-ffd31f36ec50",
      "metadata": {
        "id": "f6d3f800-7914-4086-a5df-ffd31f36ec50"
      },
      "outputs": [],
      "source": [
        "# Shortest distance traveled by each user\n",
        "shortest_distance = movements[\"distance\"].min()\n",
        "\n",
        "# Mean distance traveled by each user\n",
        "mean_distance = movements[\"distance\"].mean()\n",
        "\n",
        "# Longest distance traveled by each user\n",
        "longest_distance = movements[\"distance\"].max()"
      ]
    },
    {
      "cell_type": "markdown",
      "id": "b502828a-b060-4337-bb9f-293fce6009fc",
      "metadata": {
        "id": "b502828a-b060-4337-bb9f-293fce6009fc"
      },
      "source": [
        "Great work! Upload the Jupyter Notebook files on Canvas!"
      ]
    },
    {
      "cell_type": "code",
      "execution_count": 11,
      "id": "ed0f9649-d4bb-40af-9fc1-9310e129d92b",
      "metadata": {
        "id": "ed0f9649-d4bb-40af-9fc1-9310e129d92b",
        "outputId": "c555a348-bb92-4701-820b-bafb39a2ac9f",
        "colab": {
          "base_uri": "https://localhost:8080/"
        }
      },
      "outputs": [
        {
          "output_type": "stream",
          "name": "stdout",
          "text": [
            "Shortest distance (m): 25239410.467736937\n",
            "Mean distance (m): 29951262.107931506\n",
            "Longest distance (m): 34696053.56543147\n"
          ]
        }
      ],
      "source": [
        "print(\"Shortest distance (m):\", shortest_distance)\n",
        "print(\"Mean distance (m):\", mean_distance)\n",
        "print(\"Longest distance (m):\", longest_distance)"
      ]
    }
  ],
  "metadata": {
    "kernelspec": {
      "display_name": "Python 3 (ipykernel)",
      "language": "python",
      "name": "python3"
    },
    "language_info": {
      "codemirror_mode": {
        "name": "ipython",
        "version": 3
      },
      "file_extension": ".py",
      "mimetype": "text/x-python",
      "name": "python",
      "nbconvert_exporter": "python",
      "pygments_lexer": "ipython3",
      "version": "3.11.8"
    },
    "colab": {
      "provenance": []
    }
  },
  "nbformat": 4,
  "nbformat_minor": 5
}