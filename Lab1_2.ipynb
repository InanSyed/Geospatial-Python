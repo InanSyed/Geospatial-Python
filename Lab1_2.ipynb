{
  "cells": [
    {
      "cell_type": "markdown",
      "id": "34018980-a805-4f4e-82be-5e326b11b90e",
      "metadata": {
        "id": "34018980-a805-4f4e-82be-5e326b11b90e"
      },
      "source": [
        "# Assignment 3 and 4\n",
        "\n",
        "The  focus of the following exercises is to create geometric objects and functions, from a simple text files that contain coordinate locations - in this case, latitude and longtitude values.  \n",
        "Python is an excellent tool for this kind of a task: it can read data from (almost) any input format (CSV, text, Excel, GPX, various databases).\n",
        "\n",
        "The reading of the data files is commonly done  using [pandas](https://pandas.pydata.org/), while the geometric analysis through the [shapely](https://shapely.readthedocs.io/), library.\n",
        "\n",
        "## Sample data set\n",
        "\n",
        "For this exercise, we read simulated data from a file that lists travel times between different locations.\n",
        "The data is stored in a semicolon-separated text file [`travel_times.txt`](data/travel_times.txt).\n",
        "\n",
        "The first four rows of our data look like this:\n",
        "\n",
        "```\n",
        "from_id;to_id;fromid_toid;route_number;at;from_x;from_y;to_x;to_y;total_route_time;route_time;route_distance;route_total_lines\n",
        "5807270;5814548;5807270_5814548;1;08:10;18.0715972;59.3091487;18.0900702;59.3274161;62.8095746;63.8796211;9120.9728828;3\n",
        "5800860;5813108;5800860_5813108;1;08:10;18.0658924;59.3877461;18.0421721;59.3079419;83.8267506;85.1239344;10918.6411340;2\n",
        "5805390;5817158;5805390_5817158;4;08:10;18.0027096;59.3265600;18.0276828;59.3085658;142.8083640;138.4989656;11327.4226781;2\n",
        "5805191;5817400;5805191_5817400;2;08:10;18.0221972;59.3129515;18.0592350;59.3894191;72.4615612;117.2012476;11165.3161290;1\n",
        "```\n",
        "\n",
        "In this exercise, we are interested in the following columns:\n",
        "\n",
        "| Column name        | Description                                              |\n",
        "|:------------------ |:-------------------------------------------------------- |\n",
        "| `from_x`           | x-coordinate of the **origin** location (longitude)      |\n",
        "| `from_y`           | y-coordinate of the **origin** location (latitude)       |\n",
        "| `to_x`             | x-coordinate of the **destination** location (longitude) |\n",
        "| `to_y`             | y-coordinate of the **destination** location (latitude)  |\n",
        "| `total_route_time` | Travel time with public transportation at the route      |\n",
        "\n",
        "\n",
        "NOTE: At the parts where your code can be checked (i.e., # CODE CELL FOR TESTING YOUR SOLUTION) you might need to adjust the variable names if you have used different. In general, you can adapt any part of the code and customize it as you wish, as long as you fulfil the primary objectives.\n"
      ]
    },
    {
      "cell_type": "markdown",
      "id": "395629d2-2e7b-4ad1-a9cd-6e21580680ce",
      "metadata": {
        "id": "395629d2-2e7b-4ad1-a9cd-6e21580680ce"
      },
      "source": [
        "\n",
        "----\n",
        "\n",
        "## Assignment 3: Reading coordinates from a text file, and creating geometries\n",
        "\n",
        "In this problem, your task is to read data from the file described above, and create two lists of points representing\n",
        "the origins and destinations of the routes described in the data set.\n",
        "\n",
        "This task entails multiple steps:\n",
        "\n",
        "1. Read the data into a `pandas.DataFrame`\n",
        "2. Discard all unnecessary columns (this is good practice, as it helps reduce the memory footprint of a program)\n",
        "3. Create two lists of `shapely.geometry.Point`s\n",
        "\n",
        "Let’s go step-by-step.\n"
      ]
    },
    {
      "cell_type": "markdown",
      "id": "f34a29aa-5090-4319-b4e8-b575e9a2927c",
      "metadata": {
        "id": "f34a29aa-5090-4319-b4e8-b575e9a2927c"
      },
      "source": [
        "\n",
        "----\n",
        "\n",
        "#### (1)\n",
        "\n",
        "First, use `pandas` to read the file into a variable `data`. Consult the [pandas documentation](https://pandas.pydata.org/docs/user_guide/) to find the best way to do this."
      ]
    },
    {
      "cell_type": "code",
      "execution_count": 6,
      "id": "f8578b22-d57a-47fb-89f1-9927f8dec794",
      "metadata": {
        "id": "f8578b22-d57a-47fb-89f1-9927f8dec794"
      },
      "outputs": [],
      "source": [
        "# RUN YOUR OWN CODE HERE\n",
        "import pandas as pd\n",
        "data = pd.read_csv(\"/travel_times.txt\", delimiter=';')"
      ]
    },
    {
      "cell_type": "markdown",
      "id": "fd21dad5-ff6c-4de2-8ea5-ff0f0b36e1c2",
      "metadata": {
        "id": "fd21dad5-ff6c-4de2-8ea5-ff0f0b36e1c2"
      },
      "source": [
        "As a little sanity check, print the number of rows and columns of the data set:"
      ]
    },
    {
      "cell_type": "code",
      "execution_count": 7,
      "id": "90db54e1-0b24-4b23-acb6-0f1b53e278af",
      "metadata": {
        "colab": {
          "base_uri": "https://localhost:8080/"
        },
        "id": "90db54e1-0b24-4b23-acb6-0f1b53e278af",
        "outputId": "a43b1ec8-4ebd-4fbd-8237-b502db33abf5"
      },
      "outputs": [
        {
          "output_type": "stream",
          "name": "stdout",
          "text": [
            "(240, 13)\n"
          ]
        }
      ],
      "source": [
        "# RUN YOUR OWN CODE HERE\n",
        "print(data.shape)"
      ]
    },
    {
      "cell_type": "markdown",
      "id": "42f58129-16da-42e3-bbae-3dfea5065550",
      "metadata": {
        "id": "42f58129-16da-42e3-bbae-3dfea5065550"
      },
      "source": [
        "If you loaded the data set successfully, the following code cell will print the first few rows of the data:"
      ]
    },
    {
      "cell_type": "code",
      "execution_count": 8,
      "id": "83bd730d-b0cb-4158-b342-df35cd2902bd",
      "metadata": {
        "colab": {
          "base_uri": "https://localhost:8080/",
          "height": 226
        },
        "id": "83bd730d-b0cb-4158-b342-df35cd2902bd",
        "outputId": "0cd47e5b-dab0-4c19-c338-658ed585fa6e"
      },
      "outputs": [
        {
          "output_type": "execute_result",
          "data": {
            "text/plain": [
              "   from_id    to_id      fromid_toid  route_number     at     from_x  \\\n",
              "0  5807270  5814548  5807270_5814548             1  08:10  18.071597   \n",
              "1  5800860  5813108  5800860_5813108             1  08:10  18.065892   \n",
              "2  5805390  5817158  5805390_5817158             4  08:10  18.002710   \n",
              "3  5805191  5817400  5805191_5817400             2  08:10  18.022197   \n",
              "4  5805734  5813170  5805734_5813170             3  08:10  18.023107   \n",
              "\n",
              "      from_y       to_x       to_y  total_route_time  route_time  \\\n",
              "0  59.309149  18.090070  59.327416         62.809575   63.879621   \n",
              "1  59.387746  18.042172  59.307942         83.826751   85.123934   \n",
              "2  59.326560  18.027683  59.308566        142.808364  138.498966   \n",
              "3  59.312951  18.059235  59.389419         72.461561  117.201248   \n",
              "4  59.388875  18.091236  59.319187         87.216702   42.716742   \n",
              "\n",
              "   route_distance  route_total_lines  \n",
              "0     9120.972883                  3  \n",
              "1    10918.641134                  2  \n",
              "2    11327.422678                  2  \n",
              "3    11165.316129                  1  \n",
              "4    18614.165038                  3  "
            ],
            "text/html": [
              "\n",
              "  <div id=\"df-1142a1ae-6f95-4cb5-8b65-b5300d622dfd\" class=\"colab-df-container\">\n",
              "    <div>\n",
              "<style scoped>\n",
              "    .dataframe tbody tr th:only-of-type {\n",
              "        vertical-align: middle;\n",
              "    }\n",
              "\n",
              "    .dataframe tbody tr th {\n",
              "        vertical-align: top;\n",
              "    }\n",
              "\n",
              "    .dataframe thead th {\n",
              "        text-align: right;\n",
              "    }\n",
              "</style>\n",
              "<table border=\"1\" class=\"dataframe\">\n",
              "  <thead>\n",
              "    <tr style=\"text-align: right;\">\n",
              "      <th></th>\n",
              "      <th>from_id</th>\n",
              "      <th>to_id</th>\n",
              "      <th>fromid_toid</th>\n",
              "      <th>route_number</th>\n",
              "      <th>at</th>\n",
              "      <th>from_x</th>\n",
              "      <th>from_y</th>\n",
              "      <th>to_x</th>\n",
              "      <th>to_y</th>\n",
              "      <th>total_route_time</th>\n",
              "      <th>route_time</th>\n",
              "      <th>route_distance</th>\n",
              "      <th>route_total_lines</th>\n",
              "    </tr>\n",
              "  </thead>\n",
              "  <tbody>\n",
              "    <tr>\n",
              "      <th>0</th>\n",
              "      <td>5807270</td>\n",
              "      <td>5814548</td>\n",
              "      <td>5807270_5814548</td>\n",
              "      <td>1</td>\n",
              "      <td>08:10</td>\n",
              "      <td>18.071597</td>\n",
              "      <td>59.309149</td>\n",
              "      <td>18.090070</td>\n",
              "      <td>59.327416</td>\n",
              "      <td>62.809575</td>\n",
              "      <td>63.879621</td>\n",
              "      <td>9120.972883</td>\n",
              "      <td>3</td>\n",
              "    </tr>\n",
              "    <tr>\n",
              "      <th>1</th>\n",
              "      <td>5800860</td>\n",
              "      <td>5813108</td>\n",
              "      <td>5800860_5813108</td>\n",
              "      <td>1</td>\n",
              "      <td>08:10</td>\n",
              "      <td>18.065892</td>\n",
              "      <td>59.387746</td>\n",
              "      <td>18.042172</td>\n",
              "      <td>59.307942</td>\n",
              "      <td>83.826751</td>\n",
              "      <td>85.123934</td>\n",
              "      <td>10918.641134</td>\n",
              "      <td>2</td>\n",
              "    </tr>\n",
              "    <tr>\n",
              "      <th>2</th>\n",
              "      <td>5805390</td>\n",
              "      <td>5817158</td>\n",
              "      <td>5805390_5817158</td>\n",
              "      <td>4</td>\n",
              "      <td>08:10</td>\n",
              "      <td>18.002710</td>\n",
              "      <td>59.326560</td>\n",
              "      <td>18.027683</td>\n",
              "      <td>59.308566</td>\n",
              "      <td>142.808364</td>\n",
              "      <td>138.498966</td>\n",
              "      <td>11327.422678</td>\n",
              "      <td>2</td>\n",
              "    </tr>\n",
              "    <tr>\n",
              "      <th>3</th>\n",
              "      <td>5805191</td>\n",
              "      <td>5817400</td>\n",
              "      <td>5805191_5817400</td>\n",
              "      <td>2</td>\n",
              "      <td>08:10</td>\n",
              "      <td>18.022197</td>\n",
              "      <td>59.312951</td>\n",
              "      <td>18.059235</td>\n",
              "      <td>59.389419</td>\n",
              "      <td>72.461561</td>\n",
              "      <td>117.201248</td>\n",
              "      <td>11165.316129</td>\n",
              "      <td>1</td>\n",
              "    </tr>\n",
              "    <tr>\n",
              "      <th>4</th>\n",
              "      <td>5805734</td>\n",
              "      <td>5813170</td>\n",
              "      <td>5805734_5813170</td>\n",
              "      <td>3</td>\n",
              "      <td>08:10</td>\n",
              "      <td>18.023107</td>\n",
              "      <td>59.388875</td>\n",
              "      <td>18.091236</td>\n",
              "      <td>59.319187</td>\n",
              "      <td>87.216702</td>\n",
              "      <td>42.716742</td>\n",
              "      <td>18614.165038</td>\n",
              "      <td>3</td>\n",
              "    </tr>\n",
              "  </tbody>\n",
              "</table>\n",
              "</div>\n",
              "    <div class=\"colab-df-buttons\">\n",
              "\n",
              "  <div class=\"colab-df-container\">\n",
              "    <button class=\"colab-df-convert\" onclick=\"convertToInteractive('df-1142a1ae-6f95-4cb5-8b65-b5300d622dfd')\"\n",
              "            title=\"Convert this dataframe to an interactive table.\"\n",
              "            style=\"display:none;\">\n",
              "\n",
              "  <svg xmlns=\"http://www.w3.org/2000/svg\" height=\"24px\" viewBox=\"0 -960 960 960\">\n",
              "    <path d=\"M120-120v-720h720v720H120Zm60-500h600v-160H180v160Zm220 220h160v-160H400v160Zm0 220h160v-160H400v160ZM180-400h160v-160H180v160Zm440 0h160v-160H620v160ZM180-180h160v-160H180v160Zm440 0h160v-160H620v160Z\"/>\n",
              "  </svg>\n",
              "    </button>\n",
              "\n",
              "  <style>\n",
              "    .colab-df-container {\n",
              "      display:flex;\n",
              "      gap: 12px;\n",
              "    }\n",
              "\n",
              "    .colab-df-convert {\n",
              "      background-color: #E8F0FE;\n",
              "      border: none;\n",
              "      border-radius: 50%;\n",
              "      cursor: pointer;\n",
              "      display: none;\n",
              "      fill: #1967D2;\n",
              "      height: 32px;\n",
              "      padding: 0 0 0 0;\n",
              "      width: 32px;\n",
              "    }\n",
              "\n",
              "    .colab-df-convert:hover {\n",
              "      background-color: #E2EBFA;\n",
              "      box-shadow: 0px 1px 2px rgba(60, 64, 67, 0.3), 0px 1px 3px 1px rgba(60, 64, 67, 0.15);\n",
              "      fill: #174EA6;\n",
              "    }\n",
              "\n",
              "    .colab-df-buttons div {\n",
              "      margin-bottom: 4px;\n",
              "    }\n",
              "\n",
              "    [theme=dark] .colab-df-convert {\n",
              "      background-color: #3B4455;\n",
              "      fill: #D2E3FC;\n",
              "    }\n",
              "\n",
              "    [theme=dark] .colab-df-convert:hover {\n",
              "      background-color: #434B5C;\n",
              "      box-shadow: 0px 1px 3px 1px rgba(0, 0, 0, 0.15);\n",
              "      filter: drop-shadow(0px 1px 2px rgba(0, 0, 0, 0.3));\n",
              "      fill: #FFFFFF;\n",
              "    }\n",
              "  </style>\n",
              "\n",
              "    <script>\n",
              "      const buttonEl =\n",
              "        document.querySelector('#df-1142a1ae-6f95-4cb5-8b65-b5300d622dfd button.colab-df-convert');\n",
              "      buttonEl.style.display =\n",
              "        google.colab.kernel.accessAllowed ? 'block' : 'none';\n",
              "\n",
              "      async function convertToInteractive(key) {\n",
              "        const element = document.querySelector('#df-1142a1ae-6f95-4cb5-8b65-b5300d622dfd');\n",
              "        const dataTable =\n",
              "          await google.colab.kernel.invokeFunction('convertToInteractive',\n",
              "                                                    [key], {});\n",
              "        if (!dataTable) return;\n",
              "\n",
              "        const docLinkHtml = 'Like what you see? Visit the ' +\n",
              "          '<a target=\"_blank\" href=https://colab.research.google.com/notebooks/data_table.ipynb>data table notebook</a>'\n",
              "          + ' to learn more about interactive tables.';\n",
              "        element.innerHTML = '';\n",
              "        dataTable['output_type'] = 'display_data';\n",
              "        await google.colab.output.renderOutput(dataTable, element);\n",
              "        const docLink = document.createElement('div');\n",
              "        docLink.innerHTML = docLinkHtml;\n",
              "        element.appendChild(docLink);\n",
              "      }\n",
              "    </script>\n",
              "  </div>\n",
              "\n",
              "\n",
              "<div id=\"df-539b475d-13e9-4372-a65c-7e45d4c943ae\">\n",
              "  <button class=\"colab-df-quickchart\" onclick=\"quickchart('df-539b475d-13e9-4372-a65c-7e45d4c943ae')\"\n",
              "            title=\"Suggest charts\"\n",
              "            style=\"display:none;\">\n",
              "\n",
              "<svg xmlns=\"http://www.w3.org/2000/svg\" height=\"24px\"viewBox=\"0 0 24 24\"\n",
              "     width=\"24px\">\n",
              "    <g>\n",
              "        <path d=\"M19 3H5c-1.1 0-2 .9-2 2v14c0 1.1.9 2 2 2h14c1.1 0 2-.9 2-2V5c0-1.1-.9-2-2-2zM9 17H7v-7h2v7zm4 0h-2V7h2v10zm4 0h-2v-4h2v4z\"/>\n",
              "    </g>\n",
              "</svg>\n",
              "  </button>\n",
              "\n",
              "<style>\n",
              "  .colab-df-quickchart {\n",
              "      --bg-color: #E8F0FE;\n",
              "      --fill-color: #1967D2;\n",
              "      --hover-bg-color: #E2EBFA;\n",
              "      --hover-fill-color: #174EA6;\n",
              "      --disabled-fill-color: #AAA;\n",
              "      --disabled-bg-color: #DDD;\n",
              "  }\n",
              "\n",
              "  [theme=dark] .colab-df-quickchart {\n",
              "      --bg-color: #3B4455;\n",
              "      --fill-color: #D2E3FC;\n",
              "      --hover-bg-color: #434B5C;\n",
              "      --hover-fill-color: #FFFFFF;\n",
              "      --disabled-bg-color: #3B4455;\n",
              "      --disabled-fill-color: #666;\n",
              "  }\n",
              "\n",
              "  .colab-df-quickchart {\n",
              "    background-color: var(--bg-color);\n",
              "    border: none;\n",
              "    border-radius: 50%;\n",
              "    cursor: pointer;\n",
              "    display: none;\n",
              "    fill: var(--fill-color);\n",
              "    height: 32px;\n",
              "    padding: 0;\n",
              "    width: 32px;\n",
              "  }\n",
              "\n",
              "  .colab-df-quickchart:hover {\n",
              "    background-color: var(--hover-bg-color);\n",
              "    box-shadow: 0 1px 2px rgba(60, 64, 67, 0.3), 0 1px 3px 1px rgba(60, 64, 67, 0.15);\n",
              "    fill: var(--button-hover-fill-color);\n",
              "  }\n",
              "\n",
              "  .colab-df-quickchart-complete:disabled,\n",
              "  .colab-df-quickchart-complete:disabled:hover {\n",
              "    background-color: var(--disabled-bg-color);\n",
              "    fill: var(--disabled-fill-color);\n",
              "    box-shadow: none;\n",
              "  }\n",
              "\n",
              "  .colab-df-spinner {\n",
              "    border: 2px solid var(--fill-color);\n",
              "    border-color: transparent;\n",
              "    border-bottom-color: var(--fill-color);\n",
              "    animation:\n",
              "      spin 1s steps(1) infinite;\n",
              "  }\n",
              "\n",
              "  @keyframes spin {\n",
              "    0% {\n",
              "      border-color: transparent;\n",
              "      border-bottom-color: var(--fill-color);\n",
              "      border-left-color: var(--fill-color);\n",
              "    }\n",
              "    20% {\n",
              "      border-color: transparent;\n",
              "      border-left-color: var(--fill-color);\n",
              "      border-top-color: var(--fill-color);\n",
              "    }\n",
              "    30% {\n",
              "      border-color: transparent;\n",
              "      border-left-color: var(--fill-color);\n",
              "      border-top-color: var(--fill-color);\n",
              "      border-right-color: var(--fill-color);\n",
              "    }\n",
              "    40% {\n",
              "      border-color: transparent;\n",
              "      border-right-color: var(--fill-color);\n",
              "      border-top-color: var(--fill-color);\n",
              "    }\n",
              "    60% {\n",
              "      border-color: transparent;\n",
              "      border-right-color: var(--fill-color);\n",
              "    }\n",
              "    80% {\n",
              "      border-color: transparent;\n",
              "      border-right-color: var(--fill-color);\n",
              "      border-bottom-color: var(--fill-color);\n",
              "    }\n",
              "    90% {\n",
              "      border-color: transparent;\n",
              "      border-bottom-color: var(--fill-color);\n",
              "    }\n",
              "  }\n",
              "</style>\n",
              "\n",
              "  <script>\n",
              "    async function quickchart(key) {\n",
              "      const quickchartButtonEl =\n",
              "        document.querySelector('#' + key + ' button');\n",
              "      quickchartButtonEl.disabled = true;  // To prevent multiple clicks.\n",
              "      quickchartButtonEl.classList.add('colab-df-spinner');\n",
              "      try {\n",
              "        const charts = await google.colab.kernel.invokeFunction(\n",
              "            'suggestCharts', [key], {});\n",
              "      } catch (error) {\n",
              "        console.error('Error during call to suggestCharts:', error);\n",
              "      }\n",
              "      quickchartButtonEl.classList.remove('colab-df-spinner');\n",
              "      quickchartButtonEl.classList.add('colab-df-quickchart-complete');\n",
              "    }\n",
              "    (() => {\n",
              "      let quickchartButtonEl =\n",
              "        document.querySelector('#df-539b475d-13e9-4372-a65c-7e45d4c943ae button');\n",
              "      quickchartButtonEl.style.display =\n",
              "        google.colab.kernel.accessAllowed ? 'block' : 'none';\n",
              "    })();\n",
              "  </script>\n",
              "</div>\n",
              "\n",
              "    </div>\n",
              "  </div>\n"
            ],
            "application/vnd.google.colaboratory.intrinsic+json": {
              "type": "dataframe",
              "variable_name": "data",
              "summary": "{\n  \"name\": \"data\",\n  \"rows\": 240,\n  \"fields\": [\n    {\n      \"column\": \"from_id\",\n      \"properties\": {\n        \"dtype\": \"number\",\n        \"std\": 2829,\n        \"min\": 5800064,\n        \"max\": 5809998,\n        \"num_unique_values\": 237,\n        \"samples\": [\n          5800502,\n          5805051,\n          5807098\n        ],\n        \"semantic_type\": \"\",\n        \"description\": \"\"\n      }\n    },\n    {\n      \"column\": \"to_id\",\n      \"properties\": {\n        \"dtype\": \"number\",\n        \"std\": 2852,\n        \"min\": 5810004,\n        \"max\": 5819949,\n        \"num_unique_values\": 235,\n        \"samples\": [\n          5810606,\n          5810851,\n          5813506\n        ],\n        \"semantic_type\": \"\",\n        \"description\": \"\"\n      }\n    },\n    {\n      \"column\": \"fromid_toid\",\n      \"properties\": {\n        \"dtype\": \"string\",\n        \"num_unique_values\": 240,\n        \"samples\": [\n          \"5807849_5812869\",\n          \"5800466_5812255\",\n          \"5805258_5813009\"\n        ],\n        \"semantic_type\": \"\",\n        \"description\": \"\"\n      }\n    },\n    {\n      \"column\": \"route_number\",\n      \"properties\": {\n        \"dtype\": \"number\",\n        \"std\": 1,\n        \"min\": 1,\n        \"max\": 4,\n        \"num_unique_values\": 4,\n        \"samples\": [\n          4,\n          3,\n          1\n        ],\n        \"semantic_type\": \"\",\n        \"description\": \"\"\n      }\n    },\n    {\n      \"column\": \"at\",\n      \"properties\": {\n        \"dtype\": \"object\",\n        \"num_unique_values\": 1,\n        \"samples\": [\n          \"08:10\"\n        ],\n        \"semantic_type\": \"\",\n        \"description\": \"\"\n      }\n    },\n    {\n      \"column\": \"from_x\",\n      \"properties\": {\n        \"dtype\": \"number\",\n        \"std\": 0.029825641523523034,\n        \"min\": 18.0010996,\n        \"max\": 18.0997934,\n        \"num_unique_values\": 240,\n        \"samples\": [\n          18.0207886\n        ],\n        \"semantic_type\": \"\",\n        \"description\": \"\"\n      }\n    },\n    {\n      \"column\": \"from_y\",\n      \"properties\": {\n        \"dtype\": \"number\",\n        \"std\": 0.02973895549130268,\n        \"min\": 59.3006386,\n        \"max\": 59.3997125,\n        \"num_unique_values\": 240,\n        \"samples\": [\n          59.3824681\n        ],\n        \"semantic_type\": \"\",\n        \"description\": \"\"\n      }\n    },\n    {\n      \"column\": \"to_x\",\n      \"properties\": {\n        \"dtype\": \"number\",\n        \"std\": 0.028381158103093544,\n        \"min\": 18.000494,\n        \"max\": 18.0999414,\n        \"num_unique_values\": 240,\n        \"samples\": [\n          18.0163524\n        ],\n        \"semantic_type\": \"\",\n        \"description\": \"\"\n      }\n    },\n    {\n      \"column\": \"to_y\",\n      \"properties\": {\n        \"dtype\": \"number\",\n        \"std\": 0.029568527818410746,\n        \"min\": 59.3011031,\n        \"max\": 59.3996697,\n        \"num_unique_values\": 240,\n        \"samples\": [\n          59.3465206\n        ],\n        \"semantic_type\": \"\",\n        \"description\": \"\"\n      }\n    },\n    {\n      \"column\": \"total_route_time\",\n      \"properties\": {\n        \"dtype\": \"number\",\n        \"std\": 28.478189791251303,\n        \"min\": 50.3218264,\n        \"max\": 149.8347511,\n        \"num_unique_values\": 240,\n        \"samples\": [\n          127.6447446\n        ],\n        \"semantic_type\": \"\",\n        \"description\": \"\"\n      }\n    },\n    {\n      \"column\": \"route_time\",\n      \"properties\": {\n        \"dtype\": \"number\",\n        \"std\": 28.799387602911565,\n        \"min\": 40.5505799,\n        \"max\": 139.5437516,\n        \"num_unique_values\": 240,\n        \"samples\": [\n          131.5090068\n        ],\n        \"semantic_type\": \"\",\n        \"description\": \"\"\n      }\n    },\n    {\n      \"column\": \"route_distance\",\n      \"properties\": {\n        \"dtype\": \"number\",\n        \"std\": 4341.3543013396475,\n        \"min\": 5023.4765779,\n        \"max\": 19967.3128352,\n        \"num_unique_values\": 240,\n        \"samples\": [\n          16267.6707171\n        ],\n        \"semantic_type\": \"\",\n        \"description\": \"\"\n      }\n    },\n    {\n      \"column\": \"route_total_lines\",\n      \"properties\": {\n        \"dtype\": \"number\",\n        \"std\": 0,\n        \"min\": 1,\n        \"max\": 3,\n        \"num_unique_values\": 3,\n        \"samples\": [\n          3\n        ],\n        \"semantic_type\": \"\",\n        \"description\": \"\"\n      }\n    }\n  ]\n}"
            }
          },
          "metadata": {},
          "execution_count": 8
        }
      ],
      "source": [
        "# CODE CELL FOR TESTING YOUR SOLUTION\n",
        "data.head()"
      ]
    },
    {
      "cell_type": "markdown",
      "id": "37f51f18-ece5-4bd7-9a3e-2cab25972362",
      "metadata": {
        "id": "37f51f18-ece5-4bd7-9a3e-2cab25972362"
      },
      "source": [
        "\n",
        "----\n",
        "#### (2)\n",
        "\n",
        "Now, select the 4 columns that contain coordinate information (**`from_x`**, **`from_y`**, **`to_x`**, **`to_y`**), and store them in a DataFrame **`data`**.\n",
        "(i.e. update the variable `data`  to contain only these four columns)."
      ]
    },
    {
      "cell_type": "code",
      "execution_count": 9,
      "id": "238c5f84-74a1-4c0e-9e03-6ec0699dcede",
      "metadata": {
        "id": "238c5f84-74a1-4c0e-9e03-6ec0699dcede"
      },
      "outputs": [],
      "source": [
        "# RUN YOUR OWN CODE HERE\n",
        "data = data[[\"from_x\", \"from_y\", \"to_x\", \"to_y\"]]"
      ]
    },
    {
      "cell_type": "markdown",
      "id": "23941efa-e24a-4010-a28c-de4db2ea8a32",
      "metadata": {
        "id": "23941efa-e24a-4010-a28c-de4db2ea8a32"
      },
      "source": [
        "Run the following code cell to test whether you have successfully replaced `data` with only the required data columns: it prints an error if you haven’t."
      ]
    },
    {
      "cell_type": "code",
      "execution_count": 10,
      "id": "5c912a96-a2fa-4cc8-9538-c0e773640f94",
      "metadata": {
        "id": "5c912a96-a2fa-4cc8-9538-c0e773640f94"
      },
      "outputs": [],
      "source": [
        "#  CODE CELL FOR TESTING YOUR SOLUTION\n",
        "assert list(data.columns) == [\"from_x\", \"from_y\", \"to_x\", \"to_y\"], \"Error: `data` does not (or not only) contain the four columns it should\""
      ]
    },
    {
      "cell_type": "markdown",
      "id": "886a346f-df62-40c1-8583-b1e1be2e625d",
      "metadata": {
        "id": "886a346f-df62-40c1-8583-b1e1be2e625d"
      },
      "source": [
        "\n",
        "----\n",
        "\n",
        "#### (3)\n",
        "\n",
        "Finally, create two lists called **`origin_points`** and **`destination_points`** that contain `shapely.geometry.Point` objects created using the coordinates from `data`.\n",
        "\n",
        "In particular, the origin points in `origin_points` should be based on columns `from_x` and `from_y`, and the destination points in `destination_points` on columns `to_x` and `to_y`.\n",
        "\n",
        "There are many ways to achieve this, find two possible approaches below (you can implement either one of them):\n",
        "\n",
        "##### **Approach A**\n",
        "\n",
        "- Create two empty lists for the origin and destination points, respectively\n",
        "- Use a for-loop to iterate over the rows of your dataframe:\n",
        "    - For each row, create a `shapely.geometry.Point` object based on the coordinate columns\n",
        "    - Append the point object to the `origin_points` and `destination_point` lists\n",
        "\n",
        "\n",
        "##### **Approach B (more advanced)**\n",
        "\n",
        "- Make use of the `.apply()` function of the `pandas.DataFrame` to operate on all rows at once (see its [documentation](https://pandas.pydata.org/docs/reference/api/pandas.DataFrame.apply.html), *HINT:* you might want to use the `axis` parameter)\n",
        "- Use the `shapely.geometry.Point` constructor directly, or wrap it into a [lambda function](https://towardsdatascience.com/apply-and-lambda-usage-in-pandas-b13a1ea037f7)\n",
        "- Finally, convert the output `pandas.Series` into `list`s\n",
        "\n",
        "\n",
        "\n"
      ]
    },
    {
      "cell_type": "code",
      "execution_count": 11,
      "id": "62357159-83a9-4bc8-868f-164eda80cae0",
      "metadata": {
        "id": "62357159-83a9-4bc8-868f-164eda80cae0"
      },
      "outputs": [],
      "source": [
        "# RUN YOUR OWN CODE HERE\n",
        "from shapely.geometry import Point\n",
        "origin_points = []\n",
        "destination_points = []\n",
        "for idx, row in data.iterrows():\n",
        "    origin_points.append(Point(row[\"from_x\"], row[\"from_y\"]))\n",
        "    destination_points.append(Point(row[\"to_x\"], row[\"to_y\"]))"
      ]
    },
    {
      "cell_type": "markdown",
      "id": "1e53cd12-2050-458c-9280-9f8abdce43e5",
      "metadata": {
        "id": "1e53cd12-2050-458c-9280-9f8abdce43e5"
      },
      "source": [
        "\n",
        "**NOTE: After you have solved this problem, there might be some left-over variables around.<br />We recommend you *restart the kernel and run all cells* from the toolbar or JupyterLab’s menu.***\n"
      ]
    },
    {
      "cell_type": "markdown",
      "id": "ae36d639-f03a-4261-9faf-337db2d498a9",
      "metadata": {
        "id": "ae36d639-f03a-4261-9faf-337db2d498a9"
      },
      "source": [
        "\n",
        "Use the following code cell to test whether your solution works:"
      ]
    },
    {
      "cell_type": "code",
      "execution_count": 12,
      "id": "3c6aaeef-3b0e-4e70-8645-24fa5a5581f6",
      "metadata": {
        "tags": [],
        "colab": {
          "base_uri": "https://localhost:8080/"
        },
        "id": "3c6aaeef-3b0e-4e70-8645-24fa5a5581f6",
        "outputId": "04e5389e-9a29-4fd9-8294-7fee7a261790"
      },
      "outputs": [
        {
          "output_type": "stream",
          "name": "stdout",
          "text": [
            "ORIGIN X Y: 18.0715972 59.3091487\n",
            "DESTINATION X Y: 18.0900702 59.3274161\n"
          ]
        }
      ],
      "source": [
        "# CODE CELL FOR TESTING YOUR SOLUTION\n",
        "\n",
        "# This test print should print out the first origin and destination coordinates in the two lists:\n",
        "print(\"ORIGIN X Y:\", origin_points[0].x, origin_points[0].y)\n",
        "print(\"DESTINATION X Y:\", destination_points[0].x, destination_points[0].y)\n",
        "\n",
        "# Check that you created a correct amount of points:\n",
        "assert len(origin_points) == len(data), \"Number of origin points must be the same as number of rows in the original file\"\n",
        "assert len(destination_points) == len(data), \"Number of destination points must be the same as number of rows in the original file\""
      ]
    },
    {
      "cell_type": "markdown",
      "id": "425a0a1c-3a2e-45cd-88ce-a5a80bf51f2c",
      "metadata": {
        "id": "425a0a1c-3a2e-45cd-88ce-a5a80bf51f2c"
      },
      "source": [
        "\n",
        "\n",
        "### Done!\n",
        "\n",
        "That’s it. Now you are ready to continue to problem 4."
      ]
    },
    {
      "cell_type": "markdown",
      "id": "2c5d474f-596c-4d4b-ab6c-d8df2a1b3b1c",
      "metadata": {
        "id": "2c5d474f-596c-4d4b-ab6c-d8df2a1b3b1c"
      },
      "source": [
        "\n",
        "----\n",
        "\n",
        "## Assignment 4: Creating LineStrings that represent the movements:\n",
        "\n",
        "This problem continues where we left off after completing *Assignment 3*.\n",
        "\n",
        "The task is to:\n",
        "\n",
        "1. create a list lines (`shapely.geometry.LineString`) between each pair of origin and destination points, and\n",
        "2. calculate the over-all total_length of all those lines.\n",
        "\n",
        "Store the list of lines in a variable called `lines`, and the sum of lengths in a variable called `total_length`.\n",
        "\n",
        "Once you have working solutions for both tasks,\n",
        "\n",
        "3. create functions for them so you can apply them to other similar data sets in the future (see instructions below)."
      ]
    },
    {
      "cell_type": "markdown",
      "id": "29fbd78c-7405-4c2b-b47a-009651d4521b",
      "metadata": {
        "id": "29fbd78c-7405-4c2b-b47a-009651d4521b"
      },
      "source": [
        "#### (1)\n",
        "\n",
        "To create the `shapely.geometry.LineString`s for each pair of origins and destinations, you need to loop over both lists at the same time.\n",
        "\n",
        "Again, there are many ways to achieve this, here are two suggestions:\n",
        "\n",
        "- (alternative 1) Use the `zip()` function that allows you to iterate over multiple lists at the same time. See this week’s exercise hints!\n",
        "- (alternative 2) Use the *for-range loop*  and an index variable to access the same value in both lists\n"
      ]
    },
    {
      "cell_type": "code",
      "execution_count": 13,
      "id": "c81af422-cff0-47c5-a0ac-b0a61dfc3296",
      "metadata": {
        "id": "c81af422-cff0-47c5-a0ac-b0a61dfc3296"
      },
      "outputs": [],
      "source": [
        "# RUN YOUR OWN CODE HERE\n",
        "from shapely.geometry import LineString\n",
        "lines = [LineString([origin, destination]) for origin, destination in zip(origin_points, destination_points)]"
      ]
    },
    {
      "cell_type": "markdown",
      "id": "857f8411-2201-4fe2-9198-560800f1ad78",
      "metadata": {
        "id": "857f8411-2201-4fe2-9198-560800f1ad78"
      },
      "source": [
        "\n",
        "**NOTE: After you have solved this problem, there might be some left-over variables around.<br />We recommend you *restart the kernel and run all cells* from the toolbar or JupyterLab’s menu.***\n"
      ]
    },
    {
      "cell_type": "code",
      "execution_count": 14,
      "id": "af46ba36-e4e8-472d-954d-4e0bfeddb27c",
      "metadata": {
        "id": "af46ba36-e4e8-472d-954d-4e0bfeddb27c"
      },
      "outputs": [],
      "source": [
        "# CODE CELL FOR TESTING YOUR SOLUTION\n",
        "\n",
        "# Test that the list has correct number of LineStrings\n",
        "assert len(lines) == len(data), \"There should be as many lines as there are rows in the original data\""
      ]
    },
    {
      "cell_type": "markdown",
      "id": "2c476228-8afd-41f4-ba52-4944978ffab5",
      "metadata": {
        "id": "2c476228-8afd-41f4-ba52-4944978ffab5"
      },
      "source": [
        "\n",
        "----\n",
        "\n",
        "#### (2)\n",
        "\n",
        "Create a variable called **`total_length`**, and store the total (Euclidian) distance of all the origin-destination LineStrings that we just created into that variable.\n",
        "\n",
        "*Hint*: A simple solution is to start with a `total_length` of `0`, and add each line’s length while iterating over the list of lines.\n"
      ]
    },
    {
      "cell_type": "code",
      "execution_count": 15,
      "id": "56bd488a-5a26-4d6d-ac41-64f53c78ebac",
      "metadata": {
        "id": "56bd488a-5a26-4d6d-ac41-64f53c78ebac"
      },
      "outputs": [],
      "source": [
        "# RUN YOUR OWN CODE HERE\n",
        "total_length = sum(line.length for line in lines)"
      ]
    },
    {
      "cell_type": "code",
      "execution_count": 21,
      "id": "8f7b8aa7-ac99-473b-9b73-83ea7bf493c7",
      "metadata": {
        "colab": {
          "base_uri": "https://localhost:8080/"
        },
        "id": "8f7b8aa7-ac99-473b-9b73-83ea7bf493c7",
        "outputId": "432c79ae-ea96-4cf8-d991-763d59284c2d"
      },
      "outputs": [
        {
          "output_type": "stream",
          "name": "stdout",
          "text": [
            "12.57\n"
          ]
        }
      ],
      "source": [
        "# CODE CELL FOR TESTING YOUR SOLUTION\n",
        "print(round(total_length,2))"
      ]
    },
    {
      "cell_type": "markdown",
      "id": "fcfbcb40-431d-4734-9e4e-5d200afd648c",
      "metadata": {
        "id": "fcfbcb40-431d-4734-9e4e-5d200afd648c"
      },
      "source": [
        "\n",
        "----\n",
        "\n",
        "#### (3)\n",
        "\n",
        "Now, create functions that automate the functionality you implemented for part (1) and part (2) of this problem:\n",
        "\n",
        "- `create_od_lines()`: accepts two `list`s of `shapely.geometry.Point`s and returns a `list` of `shapely.geometry.LineString`s\n",
        "- `calculate_total_distance()`: takes a `list` of `shapely.geometry.LineString` geometries and returns their total length\n",
        "\n",
        "You can copy and paste the codes you have written earlier into the functions. Be sure to add a **docstring** to each function.\n",
        "Below, you can find a code cell for testing your functions (you should get the same result as earler)."
      ]
    },
    {
      "cell_type": "code",
      "execution_count": 22,
      "id": "89f14cc6-f967-4615-ba50-e3b8a49df236",
      "metadata": {
        "id": "89f14cc6-f967-4615-ba50-e3b8a49df236"
      },
      "outputs": [],
      "source": [
        "# RUN YOUR OWN CODE HERE\n",
        "def create_od_lines(origin_points, destination_points):\n",
        "    return [LineString([o, d]) for o, d in zip(origin_points, destination_points)]\n",
        "\n",
        "def calculate_total_distance(lines):\n",
        "      return sum(line.length for line in lines)"
      ]
    },
    {
      "cell_type": "code",
      "execution_count": 23,
      "id": "3ddc553b-39e8-44c6-9033-a255cbffd7b7",
      "metadata": {
        "colab": {
          "base_uri": "https://localhost:8080/"
        },
        "id": "3ddc553b-39e8-44c6-9033-a255cbffd7b7",
        "outputId": "f3ed115b-b4d8-438d-ca7c-99b67bbc9330"
      },
      "outputs": [
        {
          "output_type": "stream",
          "name": "stdout",
          "text": [
            "Total distance 12.57\n"
          ]
        }
      ],
      "source": [
        "# CODE CELL FOR TESTING YOUR SOLUTION\n",
        "\n",
        "# Create origin-destination lines\n",
        "od_lines = create_od_lines(origin_points, destination_points)\n",
        "\n",
        "# Calculate the total distance\n",
        "tot_dist = calculate_total_distance(od_lines)\n",
        "\n",
        "print(\"Total distance\", round(tot_dist,2))\n",
        "assert tot_dist == total_length"
      ]
    },
    {
      "cell_type": "code",
      "execution_count": 24,
      "id": "69216708-1080-4a3a-b481-16d8fdc98857",
      "metadata": {
        "id": "69216708-1080-4a3a-b481-16d8fdc98857"
      },
      "outputs": [],
      "source": [
        "\n",
        "## Well done!"
      ]
    },
    {
      "cell_type": "markdown",
      "id": "1c3416dc-46a3-430e-ac98-65a89a77d5be",
      "metadata": {
        "id": "1c3416dc-46a3-430e-ac98-65a89a77d5be"
      },
      "source": [
        "## Sources\n",
        "\n",
        "This lesson is inspired by the [Programming in Python lessons](http://swcarpentry.github.io/python-novice-inflammation/) from the [Software Carpentry organization](http://software-carpentry.org) and has adapted or reused material from University of Helsinki Automating GIS processis course (https://autogis-site.readthedocs.io/en/latest/course-info/license.html) under a Creative Commons Attribution-ShareAlike 4.0 International licence (https://creativecommons.org/licenses/by-sa/4.0/deed.en).\n"
      ]
    },
    {
      "cell_type": "code",
      "execution_count": null,
      "id": "296011ac-9627-47b8-9b44-3decf2b8c76d",
      "metadata": {
        "id": "296011ac-9627-47b8-9b44-3decf2b8c76d"
      },
      "outputs": [],
      "source": []
    }
  ],
  "metadata": {
    "kernelspec": {
      "display_name": "Python 3 (ipykernel)",
      "language": "python",
      "name": "python3"
    },
    "language_info": {
      "codemirror_mode": {
        "name": "ipython",
        "version": 3
      },
      "file_extension": ".py",
      "mimetype": "text/x-python",
      "name": "python",
      "nbconvert_exporter": "python",
      "pygments_lexer": "ipython3",
      "version": "3.10.14"
    },
    "colab": {
      "provenance": []
    }
  },
  "nbformat": 4,
  "nbformat_minor": 5
}