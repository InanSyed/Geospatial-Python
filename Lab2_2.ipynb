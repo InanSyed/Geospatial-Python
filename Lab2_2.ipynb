{
  "cells": [
    {
      "cell_type": "markdown",
      "id": "c663b088-ab8e-4c03-ab4d-f57150d6432c",
      "metadata": {
        "id": "c663b088-ab8e-4c03-ab4d-f57150d6432c"
      },
      "source": [
        "### Assignment 2: Points to map"
      ]
    },
    {
      "cell_type": "markdown",
      "id": "aff4b8f0-72d8-415c-96c7-1d234f6573f0",
      "metadata": {
        "id": "aff4b8f0-72d8-415c-96c7-1d234f6573f0"
      },
      "source": [
        " Plot a map of points, based on a set of longitude and latitude coordinates that are stored in a csv file."
      ]
    },
    {
      "cell_type": "markdown",
      "id": "4adecc44-deb5-45c6-a521-69d597d4fd60",
      "metadata": {
        "id": "4adecc44-deb5-45c6-a521-69d597d4fd60"
      },
      "source": [
        "The input data is stored in the CSV spreadsheet ***'sweden_points.csv'*** which you can download from the exercise folder. Add it your working directory and import it.  The coordinates stored there are in WGS84 format (decimal degrees, EPSG:4326) and it contains 2000 locations and 3 columns (latitude, longtitde and ID)."
      ]
    },
    {
      "cell_type": "markdown",
      "id": "6bec09a7-4bd1-4d76-9949-6bae06b23a2b",
      "metadata": {
        "id": "6bec09a7-4bd1-4d76-9949-6bae06b23a2b"
      },
      "source": [
        "First import the csv file as a pandas dataframe."
      ]
    },
    {
      "cell_type": "code",
      "execution_count": 4,
      "id": "f7b373dc-d57e-428d-877a-ba82a73db6ff",
      "metadata": {
        "id": "f7b373dc-d57e-428d-877a-ba82a73db6ff"
      },
      "outputs": [],
      "source": [
        "# RUN YOUR CODE HERE\n",
        "import pandas as pd\n",
        "import geopandas as gpd\n",
        "from shapely.geometry import Point\n",
        "import matplotlib.pyplot as plt\n",
        "\n",
        "dataframe = pd.read_csv(\"sweden_points.csv\")"
      ]
    },
    {
      "cell_type": "markdown",
      "id": "0259941f-52a2-45b1-965e-d46b43f10039",
      "metadata": {
        "id": "0259941f-52a2-45b1-965e-d46b43f10039"
      },
      "source": [
        "1) Add a geometry column and fill it with geometries.\n",
        "Create an empty column called ***geometry*** where you will store shapely Point objects.\n",
        "Insert Point objects into the column geometry based on the coordinate columns.\n",
        "You want to create a shapely.geometry.Point for each row, based on the columns longitude and latitude"
      ]
    },
    {
      "cell_type": "code",
      "execution_count": 8,
      "id": "20478ed9-cdec-482c-b0fa-ba86f99c872b",
      "metadata": {
        "id": "20478ed9-cdec-482c-b0fa-ba86f99c872b",
        "outputId": "b4345f81-a573-45fa-b848-4b2664adc6b5",
        "colab": {
          "base_uri": "https://localhost:8080/"
        }
      },
      "outputs": [
        {
          "output_type": "stream",
          "name": "stdout",
          "text": [
            "         lat        lon  trip_id                                      geometry\n",
            "0  59.751286  21.149547        1   POINT (21.14954727276289 59.75128564941775)\n",
            "1  65.258818  21.154727        1   POINT (21.15472668615925 65.25881798502805)\n",
            "2  61.744069  21.413240        1  POINT (21.413240388392545 61.74406920192757)\n",
            "3  58.834489  23.026573        1  POINT (23.026572762151275 58.83448938216252)\n",
            "4  61.308422  17.221379        1   POINT (17.221379411521763 61.3084223226109)\n"
          ]
        }
      ],
      "source": [
        "# RUN YOUR CODE HERE\n",
        "from shapely.geometry import Point\n",
        "# Create an empty column called 'geometry'\n",
        "dataframe['geometry'] = None\n",
        "\n",
        "# Iterate over each row in the DataFrame and insert a Point object into the 'geometry' column\n",
        "for index, row in dataframe.iterrows():\n",
        "    dataframe.at[index, 'geometry'] = Point(row['lon'], row['lat'])\n",
        "# Print the first few rows of the DataFrame to verify that the 'geometry' column was added correctly\n",
        "print(dataframe.head())"
      ]
    },
    {
      "cell_type": "markdown",
      "id": "ec9ca829-6032-420a-b397-f337a6610ac3",
      "metadata": {
        "id": "ec9ca829-6032-420a-b397-f337a6610ac3"
      },
      "source": [
        "2) Convert the pandas.DataFrame into a geopandas.GeoDataFrame"
      ]
    },
    {
      "cell_type": "code",
      "execution_count": 9,
      "id": "1a2cdb90-ea25-4060-acdb-93439a7315b3",
      "metadata": {
        "id": "1a2cdb90-ea25-4060-acdb-93439a7315b3",
        "outputId": "e75498e6-abfb-4965-990b-61f18fef50f4",
        "colab": {
          "base_uri": "https://localhost:8080/"
        }
      },
      "outputs": [
        {
          "output_type": "stream",
          "name": "stdout",
          "text": [
            "         lat        lon  trip_id                   geometry\n",
            "0  59.751286  21.149547        1  POINT (21.14955 59.75129)\n",
            "1  65.258818  21.154727        1  POINT (21.15473 65.25882)\n",
            "2  61.744069  21.413240        1  POINT (21.41324 61.74407)\n",
            "3  58.834489  23.026573        1  POINT (23.02657 58.83449)\n",
            "4  61.308422  17.221379        1  POINT (17.22138 61.30842)\n"
          ]
        }
      ],
      "source": [
        "# RUN YOUR CODE HERE\n",
        "\n",
        "# Convert the Pandas DataFrame to a GeoPandas DataFrame\n",
        "gdf = gpd.GeoDataFrame(dataframe, geometry=\"geometry\", crs=\"EPSG:4326\")\n",
        "\n",
        "# Print the first few rows of the GeoPandas DataFrame to verify that it was created correctly\n",
        "print(gdf.head())"
      ]
    },
    {
      "cell_type": "markdown",
      "id": "4a599e6c-fa26-4699-bd68-c291a3f0c8ea",
      "metadata": {
        "id": "4a599e6c-fa26-4699-bd68-c291a3f0c8ea"
      },
      "source": [
        " 3) Save the data in Shapefile format as sweden_points.shp inside the data directory"
      ]
    },
    {
      "cell_type": "code",
      "execution_count": 11,
      "id": "1499f83b-99c4-4b40-bd5c-b0e1817b3ffc",
      "metadata": {
        "id": "1499f83b-99c4-4b40-bd5c-b0e1817b3ffc"
      },
      "outputs": [],
      "source": [
        "# RUN YOUR CODE HERE\n",
        "gdf.to_file(\"sweden_points.shp\", driver=\"ESRI Shapefile\")"
      ]
    },
    {
      "cell_type": "markdown",
      "id": "ac1f2410-bc15-45c1-8946-47a6b2101556",
      "metadata": {
        "id": "ac1f2410-bc15-45c1-8946-47a6b2101556"
      },
      "source": [
        "4. Simply plot your points with geodataframe.plot() https://geopandas.org/en/stable/docs/user_guide/mapping.html"
      ]
    },
    {
      "cell_type": "code",
      "execution_count": null,
      "id": "b50fb5d0-49ec-4e46-89c0-ffa35e80a3ac",
      "metadata": {
        "id": "b50fb5d0-49ec-4e46-89c0-ffa35e80a3ac"
      },
      "outputs": [],
      "source": []
    }
  ],
  "metadata": {
    "kernelspec": {
      "display_name": "Python 3 (ipykernel)",
      "language": "python",
      "name": "python3"
    },
    "language_info": {
      "codemirror_mode": {
        "name": "ipython",
        "version": 3
      },
      "file_extension": ".py",
      "mimetype": "text/x-python",
      "name": "python",
      "nbconvert_exporter": "python",
      "pygments_lexer": "ipython3",
      "version": "3.11.8"
    },
    "colab": {
      "provenance": []
    }
  },
  "nbformat": 4,
  "nbformat_minor": 5
}