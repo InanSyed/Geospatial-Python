{
  "cells": [
    {
      "cell_type": "markdown",
      "id": "621fca0f-caf4-4052-93f4-9f29371f238a",
      "metadata": {
        "id": "621fca0f-caf4-4052-93f4-9f29371f238a"
      },
      "source": [
        "## Assignment1: Geocoding points of interest\n",
        "\n",
        "The aim of this exercise is to find out how many people live in proximity to shopping centers in Stockholm.\n",
        "\n",
        "---"
      ]
    },
    {
      "cell_type": "markdown",
      "id": "05e418da-59cf-4610-af9d-82596b290744",
      "metadata": {
        "id": "05e418da-59cf-4610-af9d-82596b290744"
      },
      "source": [
        "### a) Create a file with the addresses of a few shopping centers in Stockholm\n",
        "\n",
        "Find out the addresses of shopping centers in Stockholm  and collect them in a text file called `shopping_centres.txt`. The list does not have to be exhaustive - between 5-10 centers would be enough.\n",
        "\n",
        "\n",
        "The text file should be in semicolon-separated format (`;`) and include the following columns:\n",
        "\n",
        "- `id` (integer) a unique identifier for each shopping centre (a\n",
        "- `name` (string) of each shopping center\n",
        "- `addr` (string) the address\n",
        "\n",
        "\n",
        "---"
      ]
    },
    {
      "cell_type": "markdown",
      "id": "9831f36b-6e46-43bf-ad16-cb5c18377b6d",
      "metadata": {
        "id": "9831f36b-6e46-43bf-ad16-cb5c18377b6d"
      },
      "source": [
        "### b) Import the file\n",
        "\n",
        "Read the list of addresses you just prepared into a `pandas.DataFrame` called `shopping_centres`"
      ]
    },
    {
      "cell_type": "code",
      "execution_count": 2,
      "id": "b4fa0a03-03f0-48d5-ad75-ab17d38d2b7e",
      "metadata": {
        "id": "b4fa0a03-03f0-48d5-ad75-ab17d38d2b7e"
      },
      "outputs": [],
      "source": [
        "# RUN YOUR CODE HERE\n",
        "import pandas as pd\n",
        "import geopandas as gpd\n",
        "from shapely.geometry import Point\n",
        "from geopy.geocoders import Nominatim\n",
        "import time\n",
        "shopping_centres = pd.read_csv(\"shopping_centres.txt\", delimiter=\";\")"
      ]
    },
    {
      "cell_type": "markdown",
      "id": "cb26c9a6-9870-417c-a729-2d2c4aac6a9a",
      "metadata": {
        "id": "cb26c9a6-9870-417c-a729-2d2c4aac6a9a"
      },
      "source": [
        "\n",
        "---\n",
        "\n",
        "### c) Geocode the addresses\n",
        "\n",
        "Geocode the addresses using the Nominatim geocoding service. Join the results with the input data, and store them in a `geopandas.GeoDataFrame` with the same name (`shopping_centres`).\n",
        "\n",
        "Remember to define a custom `user_agent` string!"
      ]
    },
    {
      "cell_type": "code",
      "execution_count": 5,
      "id": "c6270e76-8459-4ec5-8e88-9b031ddb891e",
      "metadata": {
        "id": "c6270e76-8459-4ec5-8e88-9b031ddb891e",
        "outputId": "c7849145-0968-44d2-b477-1589e89d92eb",
        "colab": {
          "base_uri": "https://localhost:8080/"
        }
      },
      "outputs": [
        {
          "output_type": "stream",
          "name": "stdout",
          "text": [
            "   id                           name  \\\n",
            "0   1  Westfield Mall of Scandinavia   \n",
            "1   2                   NK Stockholm   \n",
            "2   3                 Kista Galleria   \n",
            "3   4              Vällingby Centrum   \n",
            "4   5         Westfield Täby Centrum   \n",
            "\n",
            "                                              addr   latitude  longitude  \\\n",
            "0         Stjärntorget 2, Solna, Stockholm, Sweden  59.370566  18.003275   \n",
            "1     Hamngatan 18–20, Norrmalm, Stockholm, Sweden  59.332994  18.075751   \n",
            "2             Kistagatan, Kista, Stockholm, Sweden        NaN        NaN   \n",
            "3  Vällingby Centrum, Vällingby, Stockholm, Sweden  59.362753  17.873011   \n",
            "4  Stora Marknadsvägen 15, Täby, Stockholm, Sweden  59.444405  18.072825   \n",
            "\n",
            "                    geometry  \n",
            "0  POINT (18.00327 59.37057)  \n",
            "1  POINT (18.07575 59.33299)  \n",
            "2                POINT EMPTY  \n",
            "3  POINT (17.87301 59.36275)  \n",
            "4   POINT (18.07283 59.4444)  \n"
          ]
        }
      ],
      "source": [
        "# RUN YOUR CODE HERE\n",
        "locator = Nominatim(user_agent=\"shopping_centres\")\n",
        "\n",
        "lat = []\n",
        "lon= []\n",
        "\n",
        "for adr in shopping_centres[\"addr\"]:\n",
        "    location =locator.geocode(adr,timeout=100)\n",
        "    if location is not None:\n",
        "        lat.append(location.latitude)\n",
        "        lon.append(location.longitude)\n",
        "\n",
        "    else:\n",
        "\n",
        "        lat.append(None)\n",
        "        lon.append(None)\n",
        "\n",
        "\n",
        "\n",
        "shopping_centres[\"latitude\"] = lat\n",
        "shopping_centres[\"longitude\"] = lon\n",
        "shopping_centres[\"geometry\"] = shopping_centres.apply(lambda row: Point(row[\"longitude\"], row[\"latitude\"]), axis=1)\n",
        "shopping_centres = gpd.GeoDataFrame(shopping_centres, geometry=\"geometry\", crs=\"EPSG:4326\")\n"
      ]
    },
    {
      "cell_type": "markdown",
      "id": "b92180ee-7265-498f-a85b-80ab13980cf9",
      "metadata": {
        "id": "b92180ee-7265-498f-a85b-80ab13980cf9"
      },
      "source": [
        " reproject the layer into SWEREF99:"
      ]
    },
    {
      "cell_type": "code",
      "execution_count": null,
      "id": "f33253e8-3038-4fe8-b45e-a040221741f7",
      "metadata": {
        "id": "f33253e8-3038-4fe8-b45e-a040221741f7"
      },
      "outputs": [],
      "source": [
        "# RUN YOUR CODE HERE"
      ]
    },
    {
      "cell_type": "markdown",
      "id": "581f27d5-0ad2-454d-a143-ab434387ef20",
      "metadata": {
        "id": "581f27d5-0ad2-454d-a143-ab434387ef20"
      },
      "source": [
        "\n",
        "---\n",
        "\n",
        "### d) Save the results in a geographical format (such as .shp or .gpkg)\n",
        "\n",
        "Save `shopping_centres` as a *GeoPackage* named `shopping_centres.gpkg`:"
      ]
    },
    {
      "cell_type": "code",
      "execution_count": null,
      "id": "8fddf428-78ab-479a-a5b1-5ae01bd391d5",
      "metadata": {
        "id": "8fddf428-78ab-479a-a5b1-5ae01bd391d5"
      },
      "outputs": [],
      "source": [
        "# RUN YOUR CODE HERE"
      ]
    }
  ],
  "metadata": {
    "kernelspec": {
      "display_name": "Python 3 (ipykernel)",
      "language": "python",
      "name": "python3"
    },
    "language_info": {
      "codemirror_mode": {
        "name": "ipython",
        "version": 3
      },
      "file_extension": ".py",
      "mimetype": "text/x-python",
      "name": "python",
      "nbconvert_exporter": "python",
      "pygments_lexer": "ipython3",
      "version": "3.11.8"
    },
    "colab": {
      "provenance": []
    }
  },
  "nbformat": 4,
  "nbformat_minor": 5
}